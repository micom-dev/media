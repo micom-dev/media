{
 "cells": [
  {
   "cell_type": "markdown",
   "id": "5d8118da",
   "metadata": {},
   "source": [
    "# MICOM medium for VMH fermented foods\n",
    "\n",
    "Here we will build up the environmental conditions used for modeling. We will start from the metabolite abundances obtained from the VMH diet designer and basically go through the following step.\n",
    "\n",
    "1. Convert to fluxes and adjust very low abundant compounds.\n",
    "2. Dilute metabolites absorbed in the small intestine.\n",
    "3. Add primary bile acids and mucin cores.\n",
    "4. Add in missing components to allow for at least slow growth for all known taxa residing in the human gut.\n",
    "\n",
    "That should leave us with a set of usable media for all later simulation steps.\n",
    "\n",
    "But first let us inspect the actual diet data we got. For that we will read the diet data, rearrange it a bit and add in annotations."
   ]
  },
  {
   "cell_type": "code",
   "execution_count": 1,
   "id": "590b14b2",
   "metadata": {},
   "outputs": [
    {
     "data": {
      "text/html": [
       "<div>\n",
       "<style scoped>\n",
       "    .dataframe tbody tr th:only-of-type {\n",
       "        vertical-align: middle;\n",
       "    }\n",
       "\n",
       "    .dataframe tbody tr th {\n",
       "        vertical-align: top;\n",
       "    }\n",
       "\n",
       "    .dataframe thead th {\n",
       "        text-align: right;\n",
       "    }\n",
       "</style>\n",
       "<table border=\"1\" class=\"dataframe\">\n",
       "  <thead>\n",
       "    <tr style=\"text-align: right;\">\n",
       "      <th></th>\n",
       "      <th>reaction</th>\n",
       "      <th>flux</th>\n",
       "      <th>metabolite</th>\n",
       "    </tr>\n",
       "  </thead>\n",
       "  <tbody>\n",
       "    <tr>\n",
       "      <th>0</th>\n",
       "      <td>EX_10fthf(e)</td>\n",
       "      <td>0.000204</td>\n",
       "      <td>10fthf</td>\n",
       "    </tr>\n",
       "    <tr>\n",
       "      <th>1</th>\n",
       "      <td>EX_5mthf(e)</td>\n",
       "      <td>0.000302</td>\n",
       "      <td>5mthf</td>\n",
       "    </tr>\n",
       "    <tr>\n",
       "      <th>2</th>\n",
       "      <td>EX_CE2510(e)</td>\n",
       "      <td>0.874191</td>\n",
       "      <td>CE2510</td>\n",
       "    </tr>\n",
       "    <tr>\n",
       "      <th>3</th>\n",
       "      <td>EX_CE4843(e)</td>\n",
       "      <td>0.030427</td>\n",
       "      <td>CE4843</td>\n",
       "    </tr>\n",
       "    <tr>\n",
       "      <th>4</th>\n",
       "      <td>EX_adpcbl(e)</td>\n",
       "      <td>0.000004</td>\n",
       "      <td>adpcbl</td>\n",
       "    </tr>\n",
       "    <tr>\n",
       "      <th>...</th>\n",
       "      <td>...</td>\n",
       "      <td>...</td>\n",
       "      <td>...</td>\n",
       "    </tr>\n",
       "    <tr>\n",
       "      <th>91</th>\n",
       "      <td>EX_urate(e)</td>\n",
       "      <td>5.055348</td>\n",
       "      <td>urate</td>\n",
       "    </tr>\n",
       "    <tr>\n",
       "      <th>92</th>\n",
       "      <td>EX_val_L(e)</td>\n",
       "      <td>45.648629</td>\n",
       "      <td>val_L</td>\n",
       "    </tr>\n",
       "    <tr>\n",
       "      <th>93</th>\n",
       "      <td>EX_vitd3(e)</td>\n",
       "      <td>0.000019</td>\n",
       "      <td>vitd3</td>\n",
       "    </tr>\n",
       "    <tr>\n",
       "      <th>94</th>\n",
       "      <td>EX_xylt(e)</td>\n",
       "      <td>0.220841</td>\n",
       "      <td>xylt</td>\n",
       "    </tr>\n",
       "    <tr>\n",
       "      <th>95</th>\n",
       "      <td>EX_zn2(e)</td>\n",
       "      <td>0.246528</td>\n",
       "      <td>zn2</td>\n",
       "    </tr>\n",
       "  </tbody>\n",
       "</table>\n",
       "<p>96 rows × 3 columns</p>\n",
       "</div>"
      ],
      "text/plain": [
       "        reaction       flux metabolite\n",
       "0   EX_10fthf(e)   0.000204     10fthf\n",
       "1    EX_5mthf(e)   0.000302      5mthf\n",
       "2   EX_CE2510(e)   0.874191     CE2510\n",
       "3   EX_CE4843(e)   0.030427     CE4843\n",
       "4   EX_adpcbl(e)   0.000004     adpcbl\n",
       "..           ...        ...        ...\n",
       "91   EX_urate(e)   5.055348      urate\n",
       "92   EX_val_L(e)  45.648629      val_L\n",
       "93   EX_vitd3(e)   0.000019      vitd3\n",
       "94    EX_xylt(e)   0.220841       xylt\n",
       "95     EX_zn2(e)   0.246528        zn2\n",
       "\n",
       "[96 rows x 3 columns]"
      ]
     },
     "execution_count": 1,
     "metadata": {},
     "output_type": "execute_result"
    }
   ],
   "source": [
    "import pandas as pd\n",
    "\n",
    "\n",
    "eu = pd.read_csv(\"../data/vmh_high_fiber.tsv\", sep=\"\\t\").iloc[:, 0:2]\n",
    "eu.columns = [\"reaction\", \"flux\"]\n",
    "eu.flux *= 0.8\n",
    "\n",
    "diet = pd.read_csv(\"../data/vmh_fermented.tsv\", sep=\"\\t\", header=None)\n",
    "diet.columns = [\"reaction\", \"flux\"]\n",
    "\n",
    "diet = pd.concat([eu, diet])\n",
    "diet.reaction = diet.reaction.str.replace(\"\\\\[e\\\\]$\", \"(e)\", regex=True)\n",
    "diet = diet.groupby(\"reaction\").flux.sum().reset_index()\n",
    "annotations = pd.read_csv(\"../data/agora_metabolites.csv\")\n",
    "\n",
    "diet = diet.rename(columns={diet.columns[0]: \"reaction\"})\n",
    "diet[\"metabolite\"] = diet.reaction.str.replace(\"^EX_\", \"\", regex=True).str.replace(\"\\\\[e\\\\]|\\\\(e\\\\)\", \"\", regex=True)\n",
    "diet.loc[diet.metabolite == \"4hpro\", \"metabolite\"] = \"4hpro_LT\"  # fix name for hydroxyproline\n",
    "diet.loc[diet.flux == 0, \"flux\"] = 1e-4  # bug in VMH designer where everything <1e-4 gets truncated to 0\n",
    "\n",
    "diet"
   ]
  },
  {
   "cell_type": "markdown",
   "id": "a85a321d",
   "metadata": {},
   "source": [
    "## Adjust for intestinal adsorption\n",
    "\n",
    "To achieve this we will load the Recon3 human model. AGORA and Recon IDs are very similar so we should be able to match them. We just have to adjust the Recon3 ones a bit. We start by identifying all available exchanges in Recon3 and adjusting the IDs."
   ]
  },
  {
   "cell_type": "code",
   "execution_count": 2,
   "id": "f1f31d9f",
   "metadata": {},
   "outputs": [
    {
     "data": {
      "text/plain": [
       "0     5adtststerone\n",
       "1    5adtststerones\n",
       "2             5fthf\n",
       "3             5htrp\n",
       "4             5mthf\n",
       "dtype: object"
      ]
     },
     "execution_count": 2,
     "metadata": {},
     "output_type": "execute_result"
    }
   ],
   "source": [
    "from cobra.io import read_sbml_model\n",
    "import pandas as pd\n",
    "\n",
    "recon3 = read_sbml_model(\"../data/Recon3D.xml.gz\")\n",
    "exchanges = pd.Series([r.id for r in recon3.exchanges])\n",
    "exchanges = exchanges.str.replace(\"__\", \"_\").str.replace(\"_e$|EX_\", \"\", regex=True)\n",
    "exchanges.head()"
   ]
  },
  {
   "cell_type": "code",
   "execution_count": 3,
   "id": "834aa1f1",
   "metadata": {},
   "outputs": [
    {
     "data": {
      "text/plain": [
       "0.2    83\n",
       "1.0    13\n",
       "Name: dilution, dtype: int64"
      ]
     },
     "execution_count": 3,
     "metadata": {},
     "output_type": "execute_result"
    }
   ],
   "source": [
    "diet[\"dilution\"] = 1.0\n",
    "diet.loc[diet.metabolite.isin(exchanges), \"dilution\"] = 0.2\n",
    "diet[\"flux\"] = diet[\"flux\"] * diet[\"dilution\"] \n",
    "diet[[\"metabolite\", \"dilution\"]].drop_duplicates().dilution.value_counts()"
   ]
  },
  {
   "cell_type": "markdown",
   "id": "bb180bcf",
   "metadata": {},
   "source": [
    "## Adding host supplied components\n",
    "\n",
    "Finally we add the host metabolites such as primary bile acids and mucins and a minuscule amount of oxygen."
   ]
  },
  {
   "cell_type": "code",
   "execution_count": 4,
   "id": "8982119f",
   "metadata": {},
   "outputs": [
    {
     "data": {
      "text/html": [
       "<div>\n",
       "<style scoped>\n",
       "    .dataframe tbody tr th:only-of-type {\n",
       "        vertical-align: middle;\n",
       "    }\n",
       "\n",
       "    .dataframe tbody tr th {\n",
       "        vertical-align: top;\n",
       "    }\n",
       "\n",
       "    .dataframe thead th {\n",
       "        text-align: right;\n",
       "    }\n",
       "</style>\n",
       "<table border=\"1\" class=\"dataframe\">\n",
       "  <thead>\n",
       "    <tr style=\"text-align: right;\">\n",
       "      <th></th>\n",
       "      <th>metabolite</th>\n",
       "      <th>reaction</th>\n",
       "      <th>flux</th>\n",
       "      <th>dilution</th>\n",
       "    </tr>\n",
       "  </thead>\n",
       "  <tbody>\n",
       "    <tr>\n",
       "      <th>0</th>\n",
       "      <td>10fthf</td>\n",
       "      <td>EX_10fthf(e)</td>\n",
       "      <td>0.000041</td>\n",
       "      <td>0.2</td>\n",
       "    </tr>\n",
       "    <tr>\n",
       "      <th>1</th>\n",
       "      <td>5mthf</td>\n",
       "      <td>EX_5mthf(e)</td>\n",
       "      <td>0.000060</td>\n",
       "      <td>0.2</td>\n",
       "    </tr>\n",
       "    <tr>\n",
       "      <th>2</th>\n",
       "      <td>CE2510</td>\n",
       "      <td>EX_CE2510(e)</td>\n",
       "      <td>0.174838</td>\n",
       "      <td>0.2</td>\n",
       "    </tr>\n",
       "    <tr>\n",
       "      <th>3</th>\n",
       "      <td>CE4843</td>\n",
       "      <td>EX_CE4843(e)</td>\n",
       "      <td>0.030427</td>\n",
       "      <td>1.0</td>\n",
       "    </tr>\n",
       "    <tr>\n",
       "      <th>4</th>\n",
       "      <td>adpcbl</td>\n",
       "      <td>EX_adpcbl(e)</td>\n",
       "      <td>0.000004</td>\n",
       "      <td>1.0</td>\n",
       "    </tr>\n",
       "    <tr>\n",
       "      <th>...</th>\n",
       "      <td>...</td>\n",
       "      <td>...</td>\n",
       "      <td>...</td>\n",
       "      <td>...</td>\n",
       "    </tr>\n",
       "    <tr>\n",
       "      <th>107</th>\n",
       "      <td>gncore2_rl</td>\n",
       "      <td>EX_gncore2_rl(e)</td>\n",
       "      <td>1.000000</td>\n",
       "      <td>NaN</td>\n",
       "    </tr>\n",
       "    <tr>\n",
       "      <th>108</th>\n",
       "      <td>core7</td>\n",
       "      <td>EX_core7(e)</td>\n",
       "      <td>1.000000</td>\n",
       "      <td>NaN</td>\n",
       "    </tr>\n",
       "    <tr>\n",
       "      <th>109</th>\n",
       "      <td>gchola</td>\n",
       "      <td>EX_gchola(e)</td>\n",
       "      <td>1.000000</td>\n",
       "      <td>NaN</td>\n",
       "    </tr>\n",
       "    <tr>\n",
       "      <th>110</th>\n",
       "      <td>tchola</td>\n",
       "      <td>EX_tchola(e)</td>\n",
       "      <td>1.000000</td>\n",
       "      <td>NaN</td>\n",
       "    </tr>\n",
       "    <tr>\n",
       "      <th>111</th>\n",
       "      <td>o2</td>\n",
       "      <td>EX_o2(e)</td>\n",
       "      <td>0.001000</td>\n",
       "      <td>NaN</td>\n",
       "    </tr>\n",
       "  </tbody>\n",
       "</table>\n",
       "<p>112 rows × 4 columns</p>\n",
       "</div>"
      ],
      "text/plain": [
       "     metabolite          reaction      flux  dilution\n",
       "0        10fthf      EX_10fthf(e)  0.000041       0.2\n",
       "1         5mthf       EX_5mthf(e)  0.000060       0.2\n",
       "2        CE2510      EX_CE2510(e)  0.174838       0.2\n",
       "3        CE4843      EX_CE4843(e)  0.030427       1.0\n",
       "4        adpcbl      EX_adpcbl(e)  0.000004       1.0\n",
       "..          ...               ...       ...       ...\n",
       "107  gncore2_rl  EX_gncore2_rl(e)  1.000000       NaN\n",
       "108       core7       EX_core7(e)  1.000000       NaN\n",
       "109      gchola      EX_gchola(e)  1.000000       NaN\n",
       "110      tchola      EX_tchola(e)  1.000000       NaN\n",
       "111          o2          EX_o2(e)  0.001000       NaN\n",
       "\n",
       "[112 rows x 4 columns]"
      ]
     },
     "execution_count": 4,
     "metadata": {},
     "output_type": "execute_result"
    }
   ],
   "source": [
    "diet.set_index(\"metabolite\", inplace=True)\n",
    "\n",
    "# mucin\n",
    "for met in annotations.loc[annotations.metabolite.str.contains(\"core\"), \"metabolite\"]:\n",
    "    diet.loc[met, \"flux\"] = 1\n",
    "\n",
    "# primary BAs\n",
    "for met in [\"gchola\", \"tchola\"]:\n",
    "    diet.loc[met, \"flux\"] = 1\n",
    "\n",
    "# fiber\n",
    "diet.loc[\"cellul\", \"flux\"] = 0.1\n",
    "\n",
    "# anaerobic\n",
    "diet.loc[\"o2\", \"flux\"] = 0.001\n",
    "\n",
    "diet.reset_index(inplace=True)\n",
    "diet[\"reaction\"] = \"EX_\" + diet.metabolite + \"(e)\"\n",
    "diet"
   ]
  },
  {
   "cell_type": "markdown",
   "id": "522870e5-a05c-4f60-acbc-5cccb8dd8f32",
   "metadata": {},
   "source": [
    "And we will merge this tbale with some annotations to make it more accessible."
   ]
  },
  {
   "cell_type": "code",
   "execution_count": 5,
   "id": "173463f8-282e-4630-86df-a9f80fb67df1",
   "metadata": {},
   "outputs": [
    {
     "data": {
      "text/html": [
       "<div>\n",
       "<style scoped>\n",
       "    .dataframe tbody tr th:only-of-type {\n",
       "        vertical-align: middle;\n",
       "    }\n",
       "\n",
       "    .dataframe tbody tr th {\n",
       "        vertical-align: top;\n",
       "    }\n",
       "\n",
       "    .dataframe thead th {\n",
       "        text-align: right;\n",
       "    }\n",
       "</style>\n",
       "<table border=\"1\" class=\"dataframe\">\n",
       "  <thead>\n",
       "    <tr style=\"text-align: right;\">\n",
       "      <th></th>\n",
       "      <th>metabolite</th>\n",
       "      <th>reaction</th>\n",
       "      <th>flux</th>\n",
       "      <th>dilution</th>\n",
       "      <th>name</th>\n",
       "      <th>hmdb</th>\n",
       "      <th>kegg.compound</th>\n",
       "      <th>pubchem.compound</th>\n",
       "      <th>inchi</th>\n",
       "      <th>chebi</th>\n",
       "      <th>global_id</th>\n",
       "    </tr>\n",
       "  </thead>\n",
       "  <tbody>\n",
       "    <tr>\n",
       "      <th>0</th>\n",
       "      <td>10fthf</td>\n",
       "      <td>EX_10fthf_m</td>\n",
       "      <td>0.000041</td>\n",
       "      <td>0.2</td>\n",
       "      <td>10-Formyltetrahydrofolate</td>\n",
       "      <td>HMDB00972</td>\n",
       "      <td>C00234</td>\n",
       "      <td>122347.0</td>\n",
       "      <td>NaN</td>\n",
       "      <td>NaN</td>\n",
       "      <td>EX_10fthf(e)</td>\n",
       "    </tr>\n",
       "    <tr>\n",
       "      <th>1</th>\n",
       "      <td>5mthf</td>\n",
       "      <td>EX_5mthf_m</td>\n",
       "      <td>0.000060</td>\n",
       "      <td>0.2</td>\n",
       "      <td>5-Methyltetrahydrofolate</td>\n",
       "      <td>HMDB01396</td>\n",
       "      <td>C00440</td>\n",
       "      <td>439234.0</td>\n",
       "      <td>NaN</td>\n",
       "      <td>NaN</td>\n",
       "      <td>EX_5mthf(e)</td>\n",
       "    </tr>\n",
       "    <tr>\n",
       "      <th>2</th>\n",
       "      <td>ala_D</td>\n",
       "      <td>EX_ala_D_m</td>\n",
       "      <td>0.345144</td>\n",
       "      <td>0.2</td>\n",
       "      <td>D-alanine</td>\n",
       "      <td>HMDB01310</td>\n",
       "      <td>C00133</td>\n",
       "      <td>71080.0</td>\n",
       "      <td>InChI=1S/C3H7NO2/c1-2(4)3(5)6/h2H,4H2,1H3,(H,5...</td>\n",
       "      <td>NaN</td>\n",
       "      <td>EX_ala_D(e)</td>\n",
       "    </tr>\n",
       "    <tr>\n",
       "      <th>3</th>\n",
       "      <td>ala_L</td>\n",
       "      <td>EX_ala_L_m</td>\n",
       "      <td>9.794952</td>\n",
       "      <td>0.2</td>\n",
       "      <td>L-alanine</td>\n",
       "      <td>HMDB00161</td>\n",
       "      <td>C00041</td>\n",
       "      <td>5950.0</td>\n",
       "      <td>InChI=1S/C3H7NO2/c1-2(4)3(5)6/h2H,4H2,1H3,(H,5...</td>\n",
       "      <td>NaN</td>\n",
       "      <td>EX_ala_L(e)</td>\n",
       "    </tr>\n",
       "    <tr>\n",
       "      <th>4</th>\n",
       "      <td>arach</td>\n",
       "      <td>EX_arach_m</td>\n",
       "      <td>0.112914</td>\n",
       "      <td>0.2</td>\n",
       "      <td>arachidate</td>\n",
       "      <td>HMDB02212</td>\n",
       "      <td>C06425</td>\n",
       "      <td>10467.0</td>\n",
       "      <td>InChI=1S/C20H40O2/c1-2-3-4-5-6-7-8-9-10-11-12-...</td>\n",
       "      <td>NaN</td>\n",
       "      <td>EX_arach(e)</td>\n",
       "    </tr>\n",
       "  </tbody>\n",
       "</table>\n",
       "</div>"
      ],
      "text/plain": [
       "  metabolite     reaction      flux  dilution                       name  \\\n",
       "0     10fthf  EX_10fthf_m  0.000041       0.2  10-Formyltetrahydrofolate   \n",
       "1      5mthf   EX_5mthf_m  0.000060       0.2   5-Methyltetrahydrofolate   \n",
       "2      ala_D   EX_ala_D_m  0.345144       0.2                  D-alanine   \n",
       "3      ala_L   EX_ala_L_m  9.794952       0.2                  L-alanine   \n",
       "4      arach   EX_arach_m  0.112914       0.2                 arachidate   \n",
       "\n",
       "        hmdb kegg.compound  pubchem.compound  \\\n",
       "0  HMDB00972        C00234          122347.0   \n",
       "1  HMDB01396        C00440          439234.0   \n",
       "2  HMDB01310        C00133           71080.0   \n",
       "3  HMDB00161        C00041            5950.0   \n",
       "4  HMDB02212        C06425           10467.0   \n",
       "\n",
       "                                               inchi chebi     global_id  \n",
       "0                                                NaN   NaN  EX_10fthf(e)  \n",
       "1                                                NaN   NaN   EX_5mthf(e)  \n",
       "2  InChI=1S/C3H7NO2/c1-2(4)3(5)6/h2H,4H2,1H3,(H,5...   NaN   EX_ala_D(e)  \n",
       "3  InChI=1S/C3H7NO2/c1-2(4)3(5)6/h2H,4H2,1H3,(H,5...   NaN   EX_ala_L(e)  \n",
       "4  InChI=1S/C20H40O2/c1-2-3-4-5-6-7-8-9-10-11-12-...   NaN   EX_arach(e)  "
      ]
     },
     "execution_count": 5,
     "metadata": {},
     "output_type": "execute_result"
    }
   ],
   "source": [
    "skeleton = pd.merge(diet, annotations, on=\"metabolite\")\n",
    "\n",
    "skeleton[\"global_id\"] = skeleton.reaction\n",
    "skeleton[\"reaction\"] = \"EX_\" + skeleton.metabolite + \"_m\"\n",
    "skeleton.head()"
   ]
  },
  {
   "cell_type": "markdown",
   "id": "670b8926",
   "metadata": {},
   "source": [
    "## Complete the medium\n",
    "\n",
    "Great we now have a pretty good skeleton. One issue that this will never be fully complete. There will always be some components missing that are essential for microbial growth. Fortunately, we provide a algorithm in MICOM to complete a medium with the smallest set of additional components to provide growth to all intestinal taxa."
   ]
  },
  {
   "cell_type": "code",
   "execution_count": 6,
   "id": "d967149a",
   "metadata": {},
   "outputs": [
    {
     "data": {
      "application/vnd.jupyter.widget-view+json": {
       "model_id": "f6a259bff1554ba1b9e19c7582aa32ec",
       "version_major": 2,
       "version_minor": 0
      },
      "text/plain": [
       "Output()"
      ]
     },
     "metadata": {},
     "output_type": "display_data"
    },
    {
     "data": {
      "text/html": [
       "<pre style=\"white-space:pre;overflow-x:auto;line-height:normal;font-family:Menlo,'DejaVu Sans Mono',consolas,'Courier New',monospace\"></pre>\n"
      ],
      "text/plain": []
     },
     "metadata": {},
     "output_type": "display_data"
    },
    {
     "data": {
      "text/html": [
       "<pre style=\"white-space:pre;overflow-x:auto;line-height:normal;font-family:Menlo,'DejaVu Sans Mono',consolas,'Courier New',monospace\">\n",
       "</pre>\n"
      ],
      "text/plain": [
       "\n"
      ]
     },
     "metadata": {},
     "output_type": "display_data"
    }
   ],
   "source": [
    "from micom.workflows.db_media import complete_db_medium\n",
    "\n",
    "manifest, imports = complete_db_medium(\"../data/agora103_strain.qza\", skeleton, growth=0.05, threads=12, max_added_import=10, weights=\"mass\")"
   ]
  },
  {
   "cell_type": "code",
   "execution_count": 7,
   "id": "bff8134e",
   "metadata": {},
   "outputs": [
    {
     "data": {
      "text/plain": [
       "True     527\n",
       "False    291\n",
       "Name: can_grow, dtype: int64"
      ]
     },
     "execution_count": 7,
     "metadata": {},
     "output_type": "execute_result"
    }
   ],
   "source": [
    "manifest.can_grow.value_counts()"
   ]
  },
  {
   "cell_type": "code",
   "execution_count": 8,
   "id": "cec3a106",
   "metadata": {},
   "outputs": [
    {
     "name": "stdout",
     "output_type": "stream",
     "text": [
      "Added flux is 11.17/38403.83 mmol/h.\n"
     ]
    }
   ],
   "source": [
    "filled = imports.max()\n",
    "added = filled[~filled.index.isin(skeleton.reaction)]\n",
    "\n",
    "print(f\"Added flux is {added.sum():.2f}/{filled.sum():.2f} mmol/h.\")"
   ]
  },
  {
   "cell_type": "markdown",
   "id": "d3e295ba",
   "metadata": {},
   "source": [
    "Let's see what was added in large amounts."
   ]
  },
  {
   "cell_type": "code",
   "execution_count": 9,
   "id": "3dcb972b",
   "metadata": {},
   "outputs": [
    {
     "data": {
      "text/plain": [
       "EX_h2_m         5.819827\n",
       "EX_h_m          4.331678\n",
       "EX_for_m        0.247297\n",
       "EX_h2s_m        0.192050\n",
       "EX_asn_L_m      0.065847\n",
       "EX_xyl_D_m      0.059302\n",
       "EX_ura_m        0.056677\n",
       "EX_xan_m        0.054624\n",
       "EX_rib_D_m      0.040283\n",
       "EX_gln_L_m      0.034262\n",
       "EX_nmn_m        0.030450\n",
       "EX_co2_m        0.028872\n",
       "EX_hxan_m       0.023320\n",
       "EX_ade_m        0.022087\n",
       "EX_arabttr_m    0.020157\n",
       "EX_3mop_m       0.017679\n",
       "EX_2obut_m      0.016349\n",
       "EX_csn_m        0.014682\n",
       "EX_adn_m        0.011045\n",
       "EX_dad_2_m      0.011045\n",
       "dtype: float64"
      ]
     },
     "execution_count": 9,
     "metadata": {},
     "output_type": "execute_result"
    }
   ],
   "source": [
    "added.sort_values(ascending=False)[0:20]"
   ]
  },
  {
   "cell_type": "markdown",
   "id": "e2135926",
   "metadata": {},
   "source": [
    "Looks okay. So we will now assemble the final medium. For this we add the new components to each sample and rebuild the annotations for a nicely formatted medium."
   ]
  },
  {
   "cell_type": "code",
   "execution_count": 10,
   "id": "1e7d505d",
   "metadata": {},
   "outputs": [
    {
     "data": {
      "text/html": [
       "<div>\n",
       "<style scoped>\n",
       "    .dataframe tbody tr th:only-of-type {\n",
       "        vertical-align: middle;\n",
       "    }\n",
       "\n",
       "    .dataframe tbody tr th {\n",
       "        vertical-align: top;\n",
       "    }\n",
       "\n",
       "    .dataframe thead th {\n",
       "        text-align: right;\n",
       "    }\n",
       "</style>\n",
       "<table border=\"1\" class=\"dataframe\">\n",
       "  <thead>\n",
       "    <tr style=\"text-align: right;\">\n",
       "      <th></th>\n",
       "      <th>metabolite</th>\n",
       "      <th>flux</th>\n",
       "      <th>name</th>\n",
       "      <th>hmdb</th>\n",
       "      <th>kegg.compound</th>\n",
       "      <th>pubchem.compound</th>\n",
       "      <th>inchi</th>\n",
       "      <th>chebi</th>\n",
       "      <th>reaction</th>\n",
       "      <th>global_id</th>\n",
       "    </tr>\n",
       "  </thead>\n",
       "  <tbody>\n",
       "    <tr>\n",
       "      <th>0</th>\n",
       "      <td>10fthf</td>\n",
       "      <td>0.000041</td>\n",
       "      <td>10-Formyltetrahydrofolate</td>\n",
       "      <td>HMDB00972</td>\n",
       "      <td>C00234</td>\n",
       "      <td>122347.0</td>\n",
       "      <td>NaN</td>\n",
       "      <td>NaN</td>\n",
       "      <td>EX_10fthf_m</td>\n",
       "      <td>EX_10fthf(e)</td>\n",
       "    </tr>\n",
       "    <tr>\n",
       "      <th>1</th>\n",
       "      <td>5mthf</td>\n",
       "      <td>0.000060</td>\n",
       "      <td>5-Methyltetrahydrofolate</td>\n",
       "      <td>HMDB01396</td>\n",
       "      <td>C00440</td>\n",
       "      <td>439234.0</td>\n",
       "      <td>NaN</td>\n",
       "      <td>NaN</td>\n",
       "      <td>EX_5mthf_m</td>\n",
       "      <td>EX_5mthf(e)</td>\n",
       "    </tr>\n",
       "    <tr>\n",
       "      <th>2</th>\n",
       "      <td>ala_D</td>\n",
       "      <td>0.345144</td>\n",
       "      <td>D-alanine</td>\n",
       "      <td>HMDB01310</td>\n",
       "      <td>C00133</td>\n",
       "      <td>71080.0</td>\n",
       "      <td>InChI=1S/C3H7NO2/c1-2(4)3(5)6/h2H,4H2,1H3,(H,5...</td>\n",
       "      <td>NaN</td>\n",
       "      <td>EX_ala_D_m</td>\n",
       "      <td>EX_ala_D(e)</td>\n",
       "    </tr>\n",
       "    <tr>\n",
       "      <th>3</th>\n",
       "      <td>ala_L</td>\n",
       "      <td>9.794952</td>\n",
       "      <td>L-alanine</td>\n",
       "      <td>HMDB00161</td>\n",
       "      <td>C00041</td>\n",
       "      <td>5950.0</td>\n",
       "      <td>InChI=1S/C3H7NO2/c1-2(4)3(5)6/h2H,4H2,1H3,(H,5...</td>\n",
       "      <td>NaN</td>\n",
       "      <td>EX_ala_L_m</td>\n",
       "      <td>EX_ala_L(e)</td>\n",
       "    </tr>\n",
       "    <tr>\n",
       "      <th>4</th>\n",
       "      <td>arach</td>\n",
       "      <td>0.112914</td>\n",
       "      <td>arachidate</td>\n",
       "      <td>HMDB02212</td>\n",
       "      <td>C06425</td>\n",
       "      <td>10467.0</td>\n",
       "      <td>InChI=1S/C20H40O2/c1-2-3-4-5-6-7-8-9-10-11-12-...</td>\n",
       "      <td>NaN</td>\n",
       "      <td>EX_arach_m</td>\n",
       "      <td>EX_arach(e)</td>\n",
       "    </tr>\n",
       "    <tr>\n",
       "      <th>...</th>\n",
       "      <td>...</td>\n",
       "      <td>...</td>\n",
       "      <td>...</td>\n",
       "      <td>...</td>\n",
       "      <td>...</td>\n",
       "      <td>...</td>\n",
       "      <td>...</td>\n",
       "      <td>...</td>\n",
       "      <td>...</td>\n",
       "      <td>...</td>\n",
       "    </tr>\n",
       "    <tr>\n",
       "      <th>141</th>\n",
       "      <td>acmana</td>\n",
       "      <td>0.005002</td>\n",
       "      <td>N-acetyl-D-mannosamine</td>\n",
       "      <td>HMDB01129</td>\n",
       "      <td>C00645</td>\n",
       "      <td>439281.0</td>\n",
       "      <td>InChI=1S/C8H15NO6/c1-4(12)9-5(2-10)7(14)8(15)6...</td>\n",
       "      <td>NaN</td>\n",
       "      <td>EX_acmana_m</td>\n",
       "      <td>EX_acmana(e)</td>\n",
       "    </tr>\n",
       "    <tr>\n",
       "      <th>142</th>\n",
       "      <td>MGlcn188</td>\n",
       "      <td>0.004624</td>\n",
       "      <td>mucin-type O-glycan No 188</td>\n",
       "      <td>NaN</td>\n",
       "      <td>NaN</td>\n",
       "      <td>NaN</td>\n",
       "      <td>NaN</td>\n",
       "      <td>NaN</td>\n",
       "      <td>EX_MGlcn188_m</td>\n",
       "      <td>EX_MGlcn188(e)</td>\n",
       "    </tr>\n",
       "    <tr>\n",
       "      <th>143</th>\n",
       "      <td>no2</td>\n",
       "      <td>0.001486</td>\n",
       "      <td>Nitrite</td>\n",
       "      <td>HMDB02786</td>\n",
       "      <td>C00088</td>\n",
       "      <td>24529.0</td>\n",
       "      <td>InChI=1S/HNO2/c2-1-3/h(H,2,3)/p-1</td>\n",
       "      <td>NaN</td>\n",
       "      <td>EX_no2_m</td>\n",
       "      <td>EX_no2(e)</td>\n",
       "    </tr>\n",
       "    <tr>\n",
       "      <th>144</th>\n",
       "      <td>xan</td>\n",
       "      <td>0.054624</td>\n",
       "      <td>Xanthine</td>\n",
       "      <td>HMDB00292</td>\n",
       "      <td>C00385</td>\n",
       "      <td>1188.0</td>\n",
       "      <td>InChI=1S/C5H4N4O2/c10-4-2-3(7-1-6-2)8-5(11)9-4...</td>\n",
       "      <td>NaN</td>\n",
       "      <td>EX_xan_m</td>\n",
       "      <td>EX_xan(e)</td>\n",
       "    </tr>\n",
       "    <tr>\n",
       "      <th>145</th>\n",
       "      <td>acald</td>\n",
       "      <td>0.000753</td>\n",
       "      <td>acetaldehyde</td>\n",
       "      <td>HMDB00990</td>\n",
       "      <td>C00084</td>\n",
       "      <td>177.0</td>\n",
       "      <td>InChI=1S/C2H4O/c1-2-3/h2H,1H3</td>\n",
       "      <td>NaN</td>\n",
       "      <td>EX_acald_m</td>\n",
       "      <td>EX_acald(e)</td>\n",
       "    </tr>\n",
       "  </tbody>\n",
       "</table>\n",
       "<p>146 rows × 10 columns</p>\n",
       "</div>"
      ],
      "text/plain": [
       "    metabolite      flux                        name       hmdb kegg.compound  \\\n",
       "0       10fthf  0.000041   10-Formyltetrahydrofolate  HMDB00972        C00234   \n",
       "1        5mthf  0.000060    5-Methyltetrahydrofolate  HMDB01396        C00440   \n",
       "2        ala_D  0.345144                   D-alanine  HMDB01310        C00133   \n",
       "3        ala_L  9.794952                   L-alanine  HMDB00161        C00041   \n",
       "4        arach  0.112914                  arachidate  HMDB02212        C06425   \n",
       "..         ...       ...                         ...        ...           ...   \n",
       "141     acmana  0.005002      N-acetyl-D-mannosamine  HMDB01129        C00645   \n",
       "142   MGlcn188  0.004624  mucin-type O-glycan No 188        NaN           NaN   \n",
       "143        no2  0.001486                     Nitrite  HMDB02786        C00088   \n",
       "144        xan  0.054624                    Xanthine  HMDB00292        C00385   \n",
       "145      acald  0.000753                acetaldehyde  HMDB00990        C00084   \n",
       "\n",
       "     pubchem.compound                                              inchi  \\\n",
       "0            122347.0                                                NaN   \n",
       "1            439234.0                                                NaN   \n",
       "2             71080.0  InChI=1S/C3H7NO2/c1-2(4)3(5)6/h2H,4H2,1H3,(H,5...   \n",
       "3              5950.0  InChI=1S/C3H7NO2/c1-2(4)3(5)6/h2H,4H2,1H3,(H,5...   \n",
       "4             10467.0  InChI=1S/C20H40O2/c1-2-3-4-5-6-7-8-9-10-11-12-...   \n",
       "..                ...                                                ...   \n",
       "141          439281.0  InChI=1S/C8H15NO6/c1-4(12)9-5(2-10)7(14)8(15)6...   \n",
       "142               NaN                                                NaN   \n",
       "143           24529.0                  InChI=1S/HNO2/c2-1-3/h(H,2,3)/p-1   \n",
       "144            1188.0  InChI=1S/C5H4N4O2/c10-4-2-3(7-1-6-2)8-5(11)9-4...   \n",
       "145             177.0                      InChI=1S/C2H4O/c1-2-3/h2H,1H3   \n",
       "\n",
       "    chebi       reaction       global_id  \n",
       "0     NaN    EX_10fthf_m    EX_10fthf(e)  \n",
       "1     NaN     EX_5mthf_m     EX_5mthf(e)  \n",
       "2     NaN     EX_ala_D_m     EX_ala_D(e)  \n",
       "3     NaN     EX_ala_L_m     EX_ala_L(e)  \n",
       "4     NaN     EX_arach_m     EX_arach(e)  \n",
       "..    ...            ...             ...  \n",
       "141   NaN    EX_acmana_m    EX_acmana(e)  \n",
       "142   NaN  EX_MGlcn188_m  EX_MGlcn188(e)  \n",
       "143   NaN       EX_no2_m       EX_no2(e)  \n",
       "144   NaN       EX_xan_m       EX_xan(e)  \n",
       "145   NaN     EX_acald_m     EX_acald(e)  \n",
       "\n",
       "[146 rows x 10 columns]"
      ]
     },
     "execution_count": 10,
     "metadata": {},
     "output_type": "execute_result"
    }
   ],
   "source": [
    "added_df = added.reset_index() \n",
    "added_df.iloc[:, 0] = added_df.iloc[:, 0].str.replace(\"EX_|_m$\", \"\", regex=True)\n",
    "added_df.columns = [\"metabolite\", \"flux\"]\n",
    "added_df = pd.concat([skeleton[[\"metabolite\", \"flux\"]], added_df])\n",
    "\n",
    "completed = pd.merge(added_df, annotations, on=\"metabolite\", how=\"left\")\n",
    "completed[\"reaction\"] = \"EX_\" + completed.metabolite + \"_m\"\n",
    "completed[\"global_id\"] = \"EX_\" + completed.metabolite + \"(e)\"\n",
    "completed"
   ]
  },
  {
   "cell_type": "markdown",
   "id": "78684d87-8191-4096-85ac-766645019e63",
   "metadata": {},
   "source": [
    "## Validate the medium\n",
    "\n",
    "And we will now validate whether the medium works."
   ]
  },
  {
   "cell_type": "code",
   "execution_count": 11,
   "id": "9b1eecad-9c6c-478e-ab76-86d39c653f70",
   "metadata": {},
   "outputs": [
    {
     "data": {
      "application/vnd.jupyter.widget-view+json": {
       "model_id": "afa4ca84c10745118666723f75372fec",
       "version_major": 2,
       "version_minor": 0
      },
      "text/plain": [
       "Output()"
      ]
     },
     "metadata": {},
     "output_type": "display_data"
    },
    {
     "data": {
      "text/html": [
       "<pre style=\"white-space:pre;overflow-x:auto;line-height:normal;font-family:Menlo,'DejaVu Sans Mono',consolas,'Courier New',monospace\"></pre>\n"
      ],
      "text/plain": []
     },
     "metadata": {},
     "output_type": "display_data"
    },
    {
     "data": {
      "text/html": [
       "<pre style=\"white-space:pre;overflow-x:auto;line-height:normal;font-family:Menlo,'DejaVu Sans Mono',consolas,'Courier New',monospace\">\n",
       "</pre>\n"
      ],
      "text/plain": [
       "\n"
      ]
     },
     "metadata": {},
     "output_type": "display_data"
    }
   ],
   "source": [
    "from micom.workflows.db_media import check_db_medium\n",
    "\n",
    "check = check_db_medium(\"../data/agora103_strain.qza\", medium=completed, threads=12)"
   ]
  },
  {
   "cell_type": "code",
   "execution_count": 12,
   "id": "381f3b8c-50a3-4ef2-8795-44185f141685",
   "metadata": {},
   "outputs": [
    {
     "data": {
      "text/plain": [
       "count    818.000000\n",
       "mean       0.077710\n",
       "std        0.076164\n",
       "min        0.000000\n",
       "25%        0.006765\n",
       "50%        0.050000\n",
       "75%        0.128204\n",
       "max        0.323333\n",
       "Name: growth_rate, dtype: float64"
      ]
     },
     "execution_count": 12,
     "metadata": {},
     "output_type": "execute_result"
    }
   ],
   "source": [
    "check.growth_rate.describe()"
   ]
  },
  {
   "cell_type": "markdown",
   "id": "3fde8ce7",
   "metadata": {},
   "source": [
    "And we are done now and will the save the final medium."
   ]
  },
  {
   "cell_type": "code",
   "execution_count": 13,
   "id": "533a5daa-1439-4675-883e-d51b7081fc3f",
   "metadata": {},
   "outputs": [
    {
     "data": {
      "text/plain": [
       "'../media/vmh_fermented_agora.qza'"
      ]
     },
     "execution_count": 13,
     "metadata": {},
     "output_type": "execute_result"
    }
   ],
   "source": [
    "import qiime2 as q2\n",
    "\n",
    "arti = q2.Artifact.import_data(\"MicomMedium[Global]\", completed)\n",
    "arti.save(\"../media/vmh_fermented_agora.qza\")"
   ]
  },
  {
   "cell_type": "code",
   "execution_count": null,
   "id": "4f17f026-83f0-4b14-8f0b-3d59ef369076",
   "metadata": {},
   "outputs": [],
   "source": []
  }
 ],
 "metadata": {
  "kernelspec": {
   "display_name": "Python 3",
   "language": "python",
   "name": "python3"
  },
  "language_info": {
   "codemirror_mode": {
    "name": "ipython",
    "version": 3
   },
   "file_extension": ".py",
   "mimetype": "text/x-python",
   "name": "python",
   "nbconvert_exporter": "python",
   "pygments_lexer": "ipython3",
   "version": "3.8.13"
  }
 },
 "nbformat": 4,
 "nbformat_minor": 5
}
