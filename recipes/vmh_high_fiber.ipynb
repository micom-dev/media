{
 "cells": [
  {
   "cell_type": "markdown",
   "id": "5d8118da",
   "metadata": {},
   "source": [
    "# MICOM medium for VMH high fiber diet\n",
    "\n",
    "Here we will build up the environmental conditions used for modeling. We will start from the metabolite abundances obtained from the VMH diet designer and basically go through the following step.\n",
    "\n",
    "1. Convert to fluxes and adjust very low abundant compounds.\n",
    "2. Dilute metabolites absorbed in the small intestine.\n",
    "3. Add primary bile acids and mucin cores.\n",
    "4. Add in missing components to allow for at least slow growth for all known taxa residing in the human gut.\n",
    "\n",
    "That should leave us with a set of usable media for all later simulation steps.\n",
    "\n",
    "But first let us inspect the actual diet data we got. For that we will read the diet data, rearrange it a bit and add in annotations."
   ]
  },
  {
   "cell_type": "code",
   "execution_count": 6,
   "id": "590b14b2",
   "metadata": {},
   "outputs": [
    {
     "data": {
      "text/html": [
       "<div>\n",
       "<style scoped>\n",
       "    .dataframe tbody tr th:only-of-type {\n",
       "        vertical-align: middle;\n",
       "    }\n",
       "\n",
       "    .dataframe tbody tr th {\n",
       "        vertical-align: top;\n",
       "    }\n",
       "\n",
       "    .dataframe thead th {\n",
       "        text-align: right;\n",
       "    }\n",
       "</style>\n",
       "<table border=\"1\" class=\"dataframe\">\n",
       "  <thead>\n",
       "    <tr style=\"text-align: right;\">\n",
       "      <th></th>\n",
       "      <th>reaction</th>\n",
       "      <th>flux</th>\n",
       "      <th>metabolite</th>\n",
       "    </tr>\n",
       "  </thead>\n",
       "  <tbody>\n",
       "    <tr>\n",
       "      <th>0</th>\n",
       "      <td>EX_etoh[e]</td>\n",
       "      <td>22.792196</td>\n",
       "      <td>etoh</td>\n",
       "    </tr>\n",
       "    <tr>\n",
       "      <th>1</th>\n",
       "      <td>EX_h2o[e]</td>\n",
       "      <td>181671.336776</td>\n",
       "      <td>h2o</td>\n",
       "    </tr>\n",
       "    <tr>\n",
       "      <th>2</th>\n",
       "      <td>EX_caro[e]</td>\n",
       "      <td>0.013132</td>\n",
       "      <td>caro</td>\n",
       "    </tr>\n",
       "    <tr>\n",
       "      <th>3</th>\n",
       "      <td>EX_retinol[e]</td>\n",
       "      <td>1.099662</td>\n",
       "      <td>retinol</td>\n",
       "    </tr>\n",
       "    <tr>\n",
       "      <th>4</th>\n",
       "      <td>EX_thm[e]</td>\n",
       "      <td>7.235601</td>\n",
       "      <td>thm</td>\n",
       "    </tr>\n",
       "    <tr>\n",
       "      <th>...</th>\n",
       "      <td>...</td>\n",
       "      <td>...</td>\n",
       "      <td>...</td>\n",
       "    </tr>\n",
       "    <tr>\n",
       "      <th>86</th>\n",
       "      <td>EX_lgnc[e]</td>\n",
       "      <td>0.166975</td>\n",
       "      <td>lgnc</td>\n",
       "    </tr>\n",
       "    <tr>\n",
       "      <th>87</th>\n",
       "      <td>EX_fol[e]</td>\n",
       "      <td>0.000273</td>\n",
       "      <td>fol</td>\n",
       "    </tr>\n",
       "    <tr>\n",
       "      <th>88</th>\n",
       "      <td>EX_strch1[e]</td>\n",
       "      <td>45.113962</td>\n",
       "      <td>strch1</td>\n",
       "    </tr>\n",
       "    <tr>\n",
       "      <th>89</th>\n",
       "      <td>EX_i[e]</td>\n",
       "      <td>0.003661</td>\n",
       "      <td>i</td>\n",
       "    </tr>\n",
       "    <tr>\n",
       "      <th>90</th>\n",
       "      <td>EX_starch1200(e)</td>\n",
       "      <td>0.417683</td>\n",
       "      <td>starch1200</td>\n",
       "    </tr>\n",
       "  </tbody>\n",
       "</table>\n",
       "<p>91 rows × 3 columns</p>\n",
       "</div>"
      ],
      "text/plain": [
       "            reaction           flux  metabolite\n",
       "0         EX_etoh[e]      22.792196        etoh\n",
       "1          EX_h2o[e]  181671.336776         h2o\n",
       "2         EX_caro[e]       0.013132        caro\n",
       "3      EX_retinol[e]       1.099662     retinol\n",
       "4          EX_thm[e]       7.235601         thm\n",
       "..               ...            ...         ...\n",
       "86        EX_lgnc[e]       0.166975        lgnc\n",
       "87         EX_fol[e]       0.000273         fol\n",
       "88      EX_strch1[e]      45.113962      strch1\n",
       "89           EX_i[e]       0.003661           i\n",
       "90  EX_starch1200(e)       0.417683  starch1200\n",
       "\n",
       "[91 rows x 3 columns]"
      ]
     },
     "execution_count": 6,
     "metadata": {},
     "output_type": "execute_result"
    }
   ],
   "source": [
    "import pandas as pd\n",
    "\n",
    "\n",
    "diet = pd.read_csv(\"../data/vmh_high_fiber.tsv\", sep=\"\\t\").iloc[:, 0:2]\n",
    "diet.columns = [\"reaction\", \"flux\"]\n",
    "annotations = pd.read_csv(\"../data/agora_metabolites.csv\")\n",
    "\n",
    "diet = diet.rename(columns={diet.columns[0]: \"reaction\"})\n",
    "diet[\"metabolite\"] = diet.reaction.str.replace(\"^EX_\", \"\", regex=True).str.replace(\"\\\\[e\\\\]|\\\\(e\\\\)\", \"\", regex=True)\n",
    "diet.loc[diet.metabolite == \"4hpro\", \"metabolite\"] = \"4hpro_LT\"  # fix name for hydroxyproline\n",
    "diet.loc[diet.flux == 0, \"flux\"] = 1e-4  # bug in VMH designer where everything <1e-4 gets truncated to 0\n",
    "\n",
    "diet"
   ]
  },
  {
   "cell_type": "markdown",
   "id": "a85a321d",
   "metadata": {},
   "source": [
    "## Adjust for intestinal adsorption\n",
    "\n",
    "To achieve this we will load the Recon3 human model. AGORA and Recon IDs are very similar so we should be able to match them. We just have to adjust the Recon3 ones a bit. We start by identifying all available exchanges in Recon3 and adjusting the IDs."
   ]
  },
  {
   "cell_type": "code",
   "execution_count": 7,
   "id": "f1f31d9f",
   "metadata": {},
   "outputs": [
    {
     "data": {
      "text/plain": [
       "0     5adtststerone\n",
       "1    5adtststerones\n",
       "2             5fthf\n",
       "3             5htrp\n",
       "4             5mthf\n",
       "dtype: object"
      ]
     },
     "execution_count": 7,
     "metadata": {},
     "output_type": "execute_result"
    }
   ],
   "source": [
    "from cobra.io import read_sbml_model\n",
    "import pandas as pd\n",
    "\n",
    "recon3 = read_sbml_model(\"../data/Recon3D.xml.gz\")\n",
    "exchanges = pd.Series([r.id for r in recon3.exchanges])\n",
    "exchanges = exchanges.str.replace(\"__\", \"_\").str.replace(\"_e$|EX_\", \"\", regex=True)\n",
    "exchanges.head()"
   ]
  },
  {
   "cell_type": "code",
   "execution_count": 8,
   "id": "834aa1f1",
   "metadata": {},
   "outputs": [
    {
     "data": {
      "text/plain": [
       "0.2    79\n",
       "1.0    12\n",
       "Name: dilution, dtype: int64"
      ]
     },
     "execution_count": 8,
     "metadata": {},
     "output_type": "execute_result"
    }
   ],
   "source": [
    "diet[\"dilution\"] = 1.0\n",
    "diet.loc[diet.metabolite.isin(exchanges), \"dilution\"] = 0.2\n",
    "diet[\"flux\"] = diet[\"flux\"] * diet[\"dilution\"] \n",
    "diet[[\"metabolite\", \"dilution\"]].drop_duplicates().dilution.value_counts()"
   ]
  },
  {
   "cell_type": "markdown",
   "id": "bb180bcf",
   "metadata": {},
   "source": [
    "## Adding host supplied components\n",
    "\n",
    "Finally we add the host metabolites such as primary bile acids and mucins and a minuscule amount of oxygen."
   ]
  },
  {
   "cell_type": "code",
   "execution_count": 9,
   "id": "8982119f",
   "metadata": {},
   "outputs": [
    {
     "data": {
      "text/html": [
       "<div>\n",
       "<style scoped>\n",
       "    .dataframe tbody tr th:only-of-type {\n",
       "        vertical-align: middle;\n",
       "    }\n",
       "\n",
       "    .dataframe tbody tr th {\n",
       "        vertical-align: top;\n",
       "    }\n",
       "\n",
       "    .dataframe thead th {\n",
       "        text-align: right;\n",
       "    }\n",
       "</style>\n",
       "<table border=\"1\" class=\"dataframe\">\n",
       "  <thead>\n",
       "    <tr style=\"text-align: right;\">\n",
       "      <th></th>\n",
       "      <th>metabolite</th>\n",
       "      <th>reaction</th>\n",
       "      <th>flux</th>\n",
       "      <th>dilution</th>\n",
       "    </tr>\n",
       "  </thead>\n",
       "  <tbody>\n",
       "    <tr>\n",
       "      <th>0</th>\n",
       "      <td>etoh</td>\n",
       "      <td>EX_etoh(e)</td>\n",
       "      <td>4.558439</td>\n",
       "      <td>0.2</td>\n",
       "    </tr>\n",
       "    <tr>\n",
       "      <th>1</th>\n",
       "      <td>h2o</td>\n",
       "      <td>EX_h2o(e)</td>\n",
       "      <td>36334.267355</td>\n",
       "      <td>0.2</td>\n",
       "    </tr>\n",
       "    <tr>\n",
       "      <th>2</th>\n",
       "      <td>caro</td>\n",
       "      <td>EX_caro(e)</td>\n",
       "      <td>0.002626</td>\n",
       "      <td>0.2</td>\n",
       "    </tr>\n",
       "    <tr>\n",
       "      <th>3</th>\n",
       "      <td>retinol</td>\n",
       "      <td>EX_retinol(e)</td>\n",
       "      <td>0.219932</td>\n",
       "      <td>0.2</td>\n",
       "    </tr>\n",
       "    <tr>\n",
       "      <th>4</th>\n",
       "      <td>thm</td>\n",
       "      <td>EX_thm(e)</td>\n",
       "      <td>1.447120</td>\n",
       "      <td>0.2</td>\n",
       "    </tr>\n",
       "    <tr>\n",
       "      <th>...</th>\n",
       "      <td>...</td>\n",
       "      <td>...</td>\n",
       "      <td>...</td>\n",
       "      <td>...</td>\n",
       "    </tr>\n",
       "    <tr>\n",
       "      <th>102</th>\n",
       "      <td>gncore2_rl</td>\n",
       "      <td>EX_gncore2_rl(e)</td>\n",
       "      <td>1.000000</td>\n",
       "      <td>NaN</td>\n",
       "    </tr>\n",
       "    <tr>\n",
       "      <th>103</th>\n",
       "      <td>core7</td>\n",
       "      <td>EX_core7(e)</td>\n",
       "      <td>1.000000</td>\n",
       "      <td>NaN</td>\n",
       "    </tr>\n",
       "    <tr>\n",
       "      <th>104</th>\n",
       "      <td>gchola</td>\n",
       "      <td>EX_gchola(e)</td>\n",
       "      <td>1.000000</td>\n",
       "      <td>NaN</td>\n",
       "    </tr>\n",
       "    <tr>\n",
       "      <th>105</th>\n",
       "      <td>tchola</td>\n",
       "      <td>EX_tchola(e)</td>\n",
       "      <td>1.000000</td>\n",
       "      <td>NaN</td>\n",
       "    </tr>\n",
       "    <tr>\n",
       "      <th>106</th>\n",
       "      <td>o2</td>\n",
       "      <td>EX_o2(e)</td>\n",
       "      <td>0.001000</td>\n",
       "      <td>NaN</td>\n",
       "    </tr>\n",
       "  </tbody>\n",
       "</table>\n",
       "<p>107 rows × 4 columns</p>\n",
       "</div>"
      ],
      "text/plain": [
       "     metabolite          reaction          flux  dilution\n",
       "0          etoh        EX_etoh(e)      4.558439       0.2\n",
       "1           h2o         EX_h2o(e)  36334.267355       0.2\n",
       "2          caro        EX_caro(e)      0.002626       0.2\n",
       "3       retinol     EX_retinol(e)      0.219932       0.2\n",
       "4           thm         EX_thm(e)      1.447120       0.2\n",
       "..          ...               ...           ...       ...\n",
       "102  gncore2_rl  EX_gncore2_rl(e)      1.000000       NaN\n",
       "103       core7       EX_core7(e)      1.000000       NaN\n",
       "104      gchola      EX_gchola(e)      1.000000       NaN\n",
       "105      tchola      EX_tchola(e)      1.000000       NaN\n",
       "106          o2          EX_o2(e)      0.001000       NaN\n",
       "\n",
       "[107 rows x 4 columns]"
      ]
     },
     "execution_count": 9,
     "metadata": {},
     "output_type": "execute_result"
    }
   ],
   "source": [
    "diet.set_index(\"metabolite\", inplace=True)\n",
    "\n",
    "# mucin\n",
    "for met in annotations.loc[annotations.metabolite.str.contains(\"core\"), \"metabolite\"]:\n",
    "    diet.loc[met, \"flux\"] = 1\n",
    "\n",
    "# primary BAs\n",
    "for met in [\"gchola\", \"tchola\"]:\n",
    "    diet.loc[met, \"flux\"] = 1\n",
    "\n",
    "# fiber\n",
    "diet.loc[\"cellul\", \"flux\"] = 0.1\n",
    "\n",
    "# anaerobic\n",
    "diet.loc[\"o2\", \"flux\"] = 0.001\n",
    "\n",
    "diet.reset_index(inplace=True)\n",
    "diet[\"reaction\"] = \"EX_\" + diet.metabolite + \"(e)\"\n",
    "diet"
   ]
  },
  {
   "cell_type": "markdown",
   "id": "522870e5-a05c-4f60-acbc-5cccb8dd8f32",
   "metadata": {},
   "source": [
    "And we will merge this tbale with some annotations to make it more accessible."
   ]
  },
  {
   "cell_type": "code",
   "execution_count": 10,
   "id": "173463f8-282e-4630-86df-a9f80fb67df1",
   "metadata": {},
   "outputs": [
    {
     "data": {
      "text/html": [
       "<div>\n",
       "<style scoped>\n",
       "    .dataframe tbody tr th:only-of-type {\n",
       "        vertical-align: middle;\n",
       "    }\n",
       "\n",
       "    .dataframe tbody tr th {\n",
       "        vertical-align: top;\n",
       "    }\n",
       "\n",
       "    .dataframe thead th {\n",
       "        text-align: right;\n",
       "    }\n",
       "</style>\n",
       "<table border=\"1\" class=\"dataframe\">\n",
       "  <thead>\n",
       "    <tr style=\"text-align: right;\">\n",
       "      <th></th>\n",
       "      <th>metabolite</th>\n",
       "      <th>reaction</th>\n",
       "      <th>flux</th>\n",
       "      <th>dilution</th>\n",
       "      <th>name</th>\n",
       "      <th>hmdb</th>\n",
       "      <th>kegg.compound</th>\n",
       "      <th>pubchem.compound</th>\n",
       "      <th>inchi</th>\n",
       "      <th>chebi</th>\n",
       "      <th>global_id</th>\n",
       "    </tr>\n",
       "  </thead>\n",
       "  <tbody>\n",
       "    <tr>\n",
       "      <th>0</th>\n",
       "      <td>etoh</td>\n",
       "      <td>EX_etoh_m</td>\n",
       "      <td>4.558439</td>\n",
       "      <td>0.2</td>\n",
       "      <td>ethanol</td>\n",
       "      <td>HMDB00108</td>\n",
       "      <td>C00469</td>\n",
       "      <td>702.0</td>\n",
       "      <td>InChI=1S/C2H6O/c1-2-3/h3H,2H2,1H3</td>\n",
       "      <td>NaN</td>\n",
       "      <td>EX_etoh(e)</td>\n",
       "    </tr>\n",
       "    <tr>\n",
       "      <th>1</th>\n",
       "      <td>h2o</td>\n",
       "      <td>EX_h2o_m</td>\n",
       "      <td>36334.267355</td>\n",
       "      <td>0.2</td>\n",
       "      <td>Water</td>\n",
       "      <td>HMDB02111</td>\n",
       "      <td>C00001</td>\n",
       "      <td>962.0</td>\n",
       "      <td>InChI=1S/H2O/h1H2</td>\n",
       "      <td>NaN</td>\n",
       "      <td>EX_h2o(e)</td>\n",
       "    </tr>\n",
       "    <tr>\n",
       "      <th>2</th>\n",
       "      <td>caro</td>\n",
       "      <td>EX_caro_m</td>\n",
       "      <td>0.002626</td>\n",
       "      <td>0.2</td>\n",
       "      <td>beta-carotene</td>\n",
       "      <td>HMDB00561</td>\n",
       "      <td>C02094</td>\n",
       "      <td>NaN</td>\n",
       "      <td>NaN</td>\n",
       "      <td>NaN</td>\n",
       "      <td>EX_caro(e)</td>\n",
       "    </tr>\n",
       "    <tr>\n",
       "      <th>3</th>\n",
       "      <td>retinol</td>\n",
       "      <td>EX_retinol_m</td>\n",
       "      <td>0.219932</td>\n",
       "      <td>0.2</td>\n",
       "      <td>retinol</td>\n",
       "      <td>HMDB00305</td>\n",
       "      <td>C00473</td>\n",
       "      <td>445354.0</td>\n",
       "      <td>InChI=1S/C20H30O/c1-16(8-6-9-17(2)13-15-21)11-...</td>\n",
       "      <td>NaN</td>\n",
       "      <td>EX_retinol(e)</td>\n",
       "    </tr>\n",
       "    <tr>\n",
       "      <th>4</th>\n",
       "      <td>thm</td>\n",
       "      <td>EX_thm_m</td>\n",
       "      <td>1.447120</td>\n",
       "      <td>0.2</td>\n",
       "      <td>Thiamin</td>\n",
       "      <td>HMDB00235</td>\n",
       "      <td>C00378</td>\n",
       "      <td>1130.0</td>\n",
       "      <td>InChI=1S/C12H17N4OS/c1-8-11(3-4-17)18-7-16(8)6...</td>\n",
       "      <td>NaN</td>\n",
       "      <td>EX_thm(e)</td>\n",
       "    </tr>\n",
       "  </tbody>\n",
       "</table>\n",
       "</div>"
      ],
      "text/plain": [
       "  metabolite      reaction          flux  dilution           name       hmdb  \\\n",
       "0       etoh     EX_etoh_m      4.558439       0.2        ethanol  HMDB00108   \n",
       "1        h2o      EX_h2o_m  36334.267355       0.2          Water  HMDB02111   \n",
       "2       caro     EX_caro_m      0.002626       0.2  beta-carotene  HMDB00561   \n",
       "3    retinol  EX_retinol_m      0.219932       0.2        retinol  HMDB00305   \n",
       "4        thm      EX_thm_m      1.447120       0.2        Thiamin  HMDB00235   \n",
       "\n",
       "  kegg.compound  pubchem.compound  \\\n",
       "0        C00469             702.0   \n",
       "1        C00001             962.0   \n",
       "2        C02094               NaN   \n",
       "3        C00473          445354.0   \n",
       "4        C00378            1130.0   \n",
       "\n",
       "                                               inchi chebi      global_id  \n",
       "0                  InChI=1S/C2H6O/c1-2-3/h3H,2H2,1H3   NaN     EX_etoh(e)  \n",
       "1                                  InChI=1S/H2O/h1H2   NaN      EX_h2o(e)  \n",
       "2                                                NaN   NaN     EX_caro(e)  \n",
       "3  InChI=1S/C20H30O/c1-16(8-6-9-17(2)13-15-21)11-...   NaN  EX_retinol(e)  \n",
       "4  InChI=1S/C12H17N4OS/c1-8-11(3-4-17)18-7-16(8)6...   NaN      EX_thm(e)  "
      ]
     },
     "execution_count": 10,
     "metadata": {},
     "output_type": "execute_result"
    }
   ],
   "source": [
    "skeleton = pd.merge(diet, annotations, on=\"metabolite\")\n",
    "\n",
    "skeleton[\"global_id\"] = skeleton.reaction\n",
    "skeleton[\"reaction\"] = \"EX_\" + skeleton.metabolite + \"_m\"\n",
    "skeleton.head()"
   ]
  },
  {
   "cell_type": "markdown",
   "id": "670b8926",
   "metadata": {},
   "source": [
    "## Complete the medium\n",
    "\n",
    "Great we now have a pretty good skeleton. One issue that this will never be fully complete. There will always be some components missing that are essential for microbial growth. Fortunately, we provide a algorithm in MICOM to complete a medium with the smallest set of additional components to provide growth to all intestinal taxa."
   ]
  },
  {
   "cell_type": "code",
   "execution_count": 11,
   "id": "d967149a",
   "metadata": {},
   "outputs": [
    {
     "data": {
      "application/vnd.jupyter.widget-view+json": {
       "model_id": "6a4c44aee2f244918dbc17998870feff",
       "version_major": 2,
       "version_minor": 0
      },
      "text/plain": [
       "Output()"
      ]
     },
     "metadata": {},
     "output_type": "display_data"
    },
    {
     "data": {
      "text/html": [
       "<pre style=\"white-space:pre;overflow-x:auto;line-height:normal;font-family:Menlo,'DejaVu Sans Mono',consolas,'Courier New',monospace\"></pre>\n"
      ],
      "text/plain": []
     },
     "metadata": {},
     "output_type": "display_data"
    },
    {
     "data": {
      "text/html": [
       "<pre style=\"white-space:pre;overflow-x:auto;line-height:normal;font-family:Menlo,'DejaVu Sans Mono',consolas,'Courier New',monospace\">\n",
       "</pre>\n"
      ],
      "text/plain": [
       "\n"
      ]
     },
     "metadata": {},
     "output_type": "display_data"
    }
   ],
   "source": [
    "from micom.workflows.db_media import complete_db_medium\n",
    "\n",
    "manifest, imports = complete_db_medium(\"../data/agora103_strain.qza\", skeleton, growth=0.05, threads=12, max_added_import=100, weights=\"mass\")"
   ]
  },
  {
   "cell_type": "code",
   "execution_count": 12,
   "id": "bff8134e",
   "metadata": {},
   "outputs": [
    {
     "data": {
      "text/plain": [
       "True     527\n",
       "False    291\n",
       "Name: can_grow, dtype: int64"
      ]
     },
     "execution_count": 12,
     "metadata": {},
     "output_type": "execute_result"
    }
   ],
   "source": [
    "manifest.can_grow.value_counts()"
   ]
  },
  {
   "cell_type": "code",
   "execution_count": 13,
   "id": "cec3a106",
   "metadata": {},
   "outputs": [
    {
     "name": "stdout",
     "output_type": "stream",
     "text": [
      "Added flux is 11.54/37021.19 mmol/h.\n"
     ]
    }
   ],
   "source": [
    "filled = imports.max()\n",
    "added = filled[~filled.index.isin(skeleton.reaction)]\n",
    "\n",
    "print(f\"Added flux is {added.sum():.2f}/{filled.sum():.2f} mmol/h.\")"
   ]
  },
  {
   "cell_type": "markdown",
   "id": "d3e295ba",
   "metadata": {},
   "source": [
    "Let's see what was added in large amounts."
   ]
  },
  {
   "cell_type": "code",
   "execution_count": 14,
   "id": "3dcb972b",
   "metadata": {},
   "outputs": [
    {
     "data": {
      "text/plain": [
       "EX_h2_m         5.819827\n",
       "EX_h_m          4.692063\n",
       "EX_for_m        0.247297\n",
       "EX_h2s_m        0.192050\n",
       "EX_asn_L_m      0.065847\n",
       "EX_xyl_D_m      0.059302\n",
       "EX_ura_m        0.056677\n",
       "EX_xan_m        0.054624\n",
       "EX_rib_D_m      0.040283\n",
       "EX_gln_L_m      0.034262\n",
       "EX_nmn_m        0.030459\n",
       "EX_co2_m        0.028881\n",
       "EX_hxan_m       0.023320\n",
       "EX_ade_m        0.022087\n",
       "EX_arabttr_m    0.020157\n",
       "EX_3mop_m       0.017679\n",
       "EX_2obut_m      0.016349\n",
       "EX_csn_m        0.014682\n",
       "EX_dad_2_m      0.011045\n",
       "EX_adn_m        0.011045\n",
       "dtype: float64"
      ]
     },
     "execution_count": 14,
     "metadata": {},
     "output_type": "execute_result"
    }
   ],
   "source": [
    "added.sort_values(ascending=False)[0:20]"
   ]
  },
  {
   "cell_type": "markdown",
   "id": "e2135926",
   "metadata": {},
   "source": [
    "Looks okay. So we will now assemble the final medium. For this we add the new components to each sample and rebuild the annotations for a nicely formatted medium."
   ]
  },
  {
   "cell_type": "code",
   "execution_count": 15,
   "id": "1e7d505d",
   "metadata": {},
   "outputs": [
    {
     "data": {
      "text/html": [
       "<div>\n",
       "<style scoped>\n",
       "    .dataframe tbody tr th:only-of-type {\n",
       "        vertical-align: middle;\n",
       "    }\n",
       "\n",
       "    .dataframe tbody tr th {\n",
       "        vertical-align: top;\n",
       "    }\n",
       "\n",
       "    .dataframe thead th {\n",
       "        text-align: right;\n",
       "    }\n",
       "</style>\n",
       "<table border=\"1\" class=\"dataframe\">\n",
       "  <thead>\n",
       "    <tr style=\"text-align: right;\">\n",
       "      <th></th>\n",
       "      <th>metabolite</th>\n",
       "      <th>flux</th>\n",
       "      <th>name</th>\n",
       "      <th>hmdb</th>\n",
       "      <th>kegg.compound</th>\n",
       "      <th>pubchem.compound</th>\n",
       "      <th>inchi</th>\n",
       "      <th>chebi</th>\n",
       "      <th>reaction</th>\n",
       "      <th>global_id</th>\n",
       "    </tr>\n",
       "  </thead>\n",
       "  <tbody>\n",
       "    <tr>\n",
       "      <th>0</th>\n",
       "      <td>etoh</td>\n",
       "      <td>4.558439</td>\n",
       "      <td>ethanol</td>\n",
       "      <td>HMDB00108</td>\n",
       "      <td>C00469</td>\n",
       "      <td>702.0</td>\n",
       "      <td>InChI=1S/C2H6O/c1-2-3/h3H,2H2,1H3</td>\n",
       "      <td>NaN</td>\n",
       "      <td>EX_etoh_m</td>\n",
       "      <td>EX_etoh(e)</td>\n",
       "    </tr>\n",
       "    <tr>\n",
       "      <th>1</th>\n",
       "      <td>h2o</td>\n",
       "      <td>36334.267355</td>\n",
       "      <td>Water</td>\n",
       "      <td>HMDB02111</td>\n",
       "      <td>C00001</td>\n",
       "      <td>962.0</td>\n",
       "      <td>InChI=1S/H2O/h1H2</td>\n",
       "      <td>NaN</td>\n",
       "      <td>EX_h2o_m</td>\n",
       "      <td>EX_h2o(e)</td>\n",
       "    </tr>\n",
       "    <tr>\n",
       "      <th>2</th>\n",
       "      <td>caro</td>\n",
       "      <td>0.002626</td>\n",
       "      <td>beta-carotene</td>\n",
       "      <td>HMDB00561</td>\n",
       "      <td>C02094</td>\n",
       "      <td>NaN</td>\n",
       "      <td>NaN</td>\n",
       "      <td>NaN</td>\n",
       "      <td>EX_caro_m</td>\n",
       "      <td>EX_caro(e)</td>\n",
       "    </tr>\n",
       "    <tr>\n",
       "      <th>3</th>\n",
       "      <td>retinol</td>\n",
       "      <td>0.219932</td>\n",
       "      <td>retinol</td>\n",
       "      <td>HMDB00305</td>\n",
       "      <td>C00473</td>\n",
       "      <td>445354.0</td>\n",
       "      <td>InChI=1S/C20H30O/c1-16(8-6-9-17(2)13-15-21)11-...</td>\n",
       "      <td>NaN</td>\n",
       "      <td>EX_retinol_m</td>\n",
       "      <td>EX_retinol(e)</td>\n",
       "    </tr>\n",
       "    <tr>\n",
       "      <th>4</th>\n",
       "      <td>thm</td>\n",
       "      <td>1.447120</td>\n",
       "      <td>Thiamin</td>\n",
       "      <td>HMDB00235</td>\n",
       "      <td>C00378</td>\n",
       "      <td>1130.0</td>\n",
       "      <td>InChI=1S/C12H17N4OS/c1-8-11(3-4-17)18-7-16(8)6...</td>\n",
       "      <td>NaN</td>\n",
       "      <td>EX_thm_m</td>\n",
       "      <td>EX_thm(e)</td>\n",
       "    </tr>\n",
       "    <tr>\n",
       "      <th>...</th>\n",
       "      <td>...</td>\n",
       "      <td>...</td>\n",
       "      <td>...</td>\n",
       "      <td>...</td>\n",
       "      <td>...</td>\n",
       "      <td>...</td>\n",
       "      <td>...</td>\n",
       "      <td>...</td>\n",
       "      <td>...</td>\n",
       "      <td>...</td>\n",
       "    </tr>\n",
       "    <tr>\n",
       "      <th>138</th>\n",
       "      <td>acmana</td>\n",
       "      <td>0.005002</td>\n",
       "      <td>N-acetyl-D-mannosamine</td>\n",
       "      <td>HMDB01129</td>\n",
       "      <td>C00645</td>\n",
       "      <td>439281.0</td>\n",
       "      <td>InChI=1S/C8H15NO6/c1-4(12)9-5(2-10)7(14)8(15)6...</td>\n",
       "      <td>NaN</td>\n",
       "      <td>EX_acmana_m</td>\n",
       "      <td>EX_acmana(e)</td>\n",
       "    </tr>\n",
       "    <tr>\n",
       "      <th>139</th>\n",
       "      <td>MGlcn188</td>\n",
       "      <td>0.004624</td>\n",
       "      <td>mucin-type O-glycan No 188</td>\n",
       "      <td>NaN</td>\n",
       "      <td>NaN</td>\n",
       "      <td>NaN</td>\n",
       "      <td>NaN</td>\n",
       "      <td>NaN</td>\n",
       "      <td>EX_MGlcn188_m</td>\n",
       "      <td>EX_MGlcn188(e)</td>\n",
       "    </tr>\n",
       "    <tr>\n",
       "      <th>140</th>\n",
       "      <td>no2</td>\n",
       "      <td>0.001486</td>\n",
       "      <td>Nitrite</td>\n",
       "      <td>HMDB02786</td>\n",
       "      <td>C00088</td>\n",
       "      <td>24529.0</td>\n",
       "      <td>InChI=1S/HNO2/c2-1-3/h(H,2,3)/p-1</td>\n",
       "      <td>NaN</td>\n",
       "      <td>EX_no2_m</td>\n",
       "      <td>EX_no2(e)</td>\n",
       "    </tr>\n",
       "    <tr>\n",
       "      <th>141</th>\n",
       "      <td>xan</td>\n",
       "      <td>0.054624</td>\n",
       "      <td>Xanthine</td>\n",
       "      <td>HMDB00292</td>\n",
       "      <td>C00385</td>\n",
       "      <td>1188.0</td>\n",
       "      <td>InChI=1S/C5H4N4O2/c10-4-2-3(7-1-6-2)8-5(11)9-4...</td>\n",
       "      <td>NaN</td>\n",
       "      <td>EX_xan_m</td>\n",
       "      <td>EX_xan(e)</td>\n",
       "    </tr>\n",
       "    <tr>\n",
       "      <th>142</th>\n",
       "      <td>acald</td>\n",
       "      <td>0.000753</td>\n",
       "      <td>acetaldehyde</td>\n",
       "      <td>HMDB00990</td>\n",
       "      <td>C00084</td>\n",
       "      <td>177.0</td>\n",
       "      <td>InChI=1S/C2H4O/c1-2-3/h2H,1H3</td>\n",
       "      <td>NaN</td>\n",
       "      <td>EX_acald_m</td>\n",
       "      <td>EX_acald(e)</td>\n",
       "    </tr>\n",
       "  </tbody>\n",
       "</table>\n",
       "<p>143 rows × 10 columns</p>\n",
       "</div>"
      ],
      "text/plain": [
       "    metabolite          flux                        name       hmdb  \\\n",
       "0         etoh      4.558439                     ethanol  HMDB00108   \n",
       "1          h2o  36334.267355                       Water  HMDB02111   \n",
       "2         caro      0.002626               beta-carotene  HMDB00561   \n",
       "3      retinol      0.219932                     retinol  HMDB00305   \n",
       "4          thm      1.447120                     Thiamin  HMDB00235   \n",
       "..         ...           ...                         ...        ...   \n",
       "138     acmana      0.005002      N-acetyl-D-mannosamine  HMDB01129   \n",
       "139   MGlcn188      0.004624  mucin-type O-glycan No 188        NaN   \n",
       "140        no2      0.001486                     Nitrite  HMDB02786   \n",
       "141        xan      0.054624                    Xanthine  HMDB00292   \n",
       "142      acald      0.000753                acetaldehyde  HMDB00990   \n",
       "\n",
       "    kegg.compound  pubchem.compound  \\\n",
       "0          C00469             702.0   \n",
       "1          C00001             962.0   \n",
       "2          C02094               NaN   \n",
       "3          C00473          445354.0   \n",
       "4          C00378            1130.0   \n",
       "..            ...               ...   \n",
       "138        C00645          439281.0   \n",
       "139           NaN               NaN   \n",
       "140        C00088           24529.0   \n",
       "141        C00385            1188.0   \n",
       "142        C00084             177.0   \n",
       "\n",
       "                                                 inchi chebi       reaction  \\\n",
       "0                    InChI=1S/C2H6O/c1-2-3/h3H,2H2,1H3   NaN      EX_etoh_m   \n",
       "1                                    InChI=1S/H2O/h1H2   NaN       EX_h2o_m   \n",
       "2                                                  NaN   NaN      EX_caro_m   \n",
       "3    InChI=1S/C20H30O/c1-16(8-6-9-17(2)13-15-21)11-...   NaN   EX_retinol_m   \n",
       "4    InChI=1S/C12H17N4OS/c1-8-11(3-4-17)18-7-16(8)6...   NaN       EX_thm_m   \n",
       "..                                                 ...   ...            ...   \n",
       "138  InChI=1S/C8H15NO6/c1-4(12)9-5(2-10)7(14)8(15)6...   NaN    EX_acmana_m   \n",
       "139                                                NaN   NaN  EX_MGlcn188_m   \n",
       "140                  InChI=1S/HNO2/c2-1-3/h(H,2,3)/p-1   NaN       EX_no2_m   \n",
       "141  InChI=1S/C5H4N4O2/c10-4-2-3(7-1-6-2)8-5(11)9-4...   NaN       EX_xan_m   \n",
       "142                      InChI=1S/C2H4O/c1-2-3/h2H,1H3   NaN     EX_acald_m   \n",
       "\n",
       "          global_id  \n",
       "0        EX_etoh(e)  \n",
       "1         EX_h2o(e)  \n",
       "2        EX_caro(e)  \n",
       "3     EX_retinol(e)  \n",
       "4         EX_thm(e)  \n",
       "..              ...  \n",
       "138    EX_acmana(e)  \n",
       "139  EX_MGlcn188(e)  \n",
       "140       EX_no2(e)  \n",
       "141       EX_xan(e)  \n",
       "142     EX_acald(e)  \n",
       "\n",
       "[143 rows x 10 columns]"
      ]
     },
     "execution_count": 15,
     "metadata": {},
     "output_type": "execute_result"
    }
   ],
   "source": [
    "added_df = added.reset_index() \n",
    "added_df.iloc[:, 0] = added_df.iloc[:, 0].str.replace(\"EX_|_m$\", \"\", regex=True)\n",
    "added_df.columns = [\"metabolite\", \"flux\"]\n",
    "added_df = pd.concat([skeleton[[\"metabolite\", \"flux\"]], added_df])\n",
    "\n",
    "completed = pd.merge(added_df, annotations, on=\"metabolite\", how=\"left\")\n",
    "completed[\"reaction\"] = \"EX_\" + completed.metabolite + \"_m\"\n",
    "completed[\"global_id\"] = \"EX_\" + completed.metabolite + \"(e)\"\n",
    "completed"
   ]
  },
  {
   "cell_type": "markdown",
   "id": "78684d87-8191-4096-85ac-766645019e63",
   "metadata": {},
   "source": [
    "## Validate the medium\n",
    "\n",
    "And we will now validate whether the medium works."
   ]
  },
  {
   "cell_type": "code",
   "execution_count": 16,
   "id": "9b1eecad-9c6c-478e-ab76-86d39c653f70",
   "metadata": {},
   "outputs": [
    {
     "data": {
      "application/vnd.jupyter.widget-view+json": {
       "model_id": "833aa596156542d8a7378932b7523c64",
       "version_major": 2,
       "version_minor": 0
      },
      "text/plain": [
       "Output()"
      ]
     },
     "metadata": {},
     "output_type": "display_data"
    },
    {
     "data": {
      "text/html": [
       "<pre style=\"white-space:pre;overflow-x:auto;line-height:normal;font-family:Menlo,'DejaVu Sans Mono',consolas,'Courier New',monospace\"></pre>\n"
      ],
      "text/plain": []
     },
     "metadata": {},
     "output_type": "display_data"
    },
    {
     "data": {
      "text/html": [
       "<pre style=\"white-space:pre;overflow-x:auto;line-height:normal;font-family:Menlo,'DejaVu Sans Mono',consolas,'Courier New',monospace\">\n",
       "</pre>\n"
      ],
      "text/plain": [
       "\n"
      ]
     },
     "metadata": {},
     "output_type": "display_data"
    }
   ],
   "source": [
    "from micom.workflows.db_media import check_db_medium\n",
    "\n",
    "check = check_db_medium(\"../data/agora103_strain.qza\", medium=completed, threads=12)"
   ]
  },
  {
   "cell_type": "code",
   "execution_count": 17,
   "id": "381f3b8c-50a3-4ef2-8795-44185f141685",
   "metadata": {},
   "outputs": [
    {
     "data": {
      "text/plain": [
       "count    818.000000\n",
       "mean       0.074398\n",
       "std        0.073942\n",
       "min        0.000000\n",
       "25%        0.005870\n",
       "50%        0.050000\n",
       "75%        0.128204\n",
       "max        0.323333\n",
       "Name: growth_rate, dtype: float64"
      ]
     },
     "execution_count": 17,
     "metadata": {},
     "output_type": "execute_result"
    }
   ],
   "source": [
    "check.growth_rate.describe()"
   ]
  },
  {
   "cell_type": "markdown",
   "id": "3fde8ce7",
   "metadata": {},
   "source": [
    "And we are done now and will the save the final medium."
   ]
  },
  {
   "cell_type": "code",
   "execution_count": 18,
   "id": "533a5daa-1439-4675-883e-d51b7081fc3f",
   "metadata": {},
   "outputs": [
    {
     "data": {
      "text/plain": [
       "'../media/vmh_high_fiber_agora.qza'"
      ]
     },
     "execution_count": 18,
     "metadata": {},
     "output_type": "execute_result"
    }
   ],
   "source": [
    "import qiime2 as q2\n",
    "\n",
    "arti = q2.Artifact.import_data(\"MicomMedium[Global]\", completed)\n",
    "arti.save(\"../media/vmh_high_fiber_agora.qza\")"
   ]
  },
  {
   "cell_type": "code",
   "execution_count": null,
   "id": "4f17f026-83f0-4b14-8f0b-3d59ef369076",
   "metadata": {},
   "outputs": [],
   "source": []
  }
 ],
 "metadata": {
  "kernelspec": {
   "display_name": "Python 3",
   "language": "python",
   "name": "python3"
  },
  "language_info": {
   "codemirror_mode": {
    "name": "ipython",
    "version": 3
   },
   "file_extension": ".py",
   "mimetype": "text/x-python",
   "name": "python",
   "nbconvert_exporter": "python",
   "pygments_lexer": "ipython3",
   "version": "3.8.13"
  }
 },
 "nbformat": 4,
 "nbformat_minor": 5
}
